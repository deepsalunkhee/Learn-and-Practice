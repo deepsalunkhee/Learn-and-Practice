{
 "cells": [
  {
   "cell_type": "markdown",
   "id": "39fdef50-c85a-4083-9a3a-ba5f14583a30",
   "metadata": {},
   "source": [
    "- Name: Deep Salunkhe\n",
    "- Roll No.:21102A0014"
   ]
  },
  {
   "cell_type": "code",
   "execution_count": 2,
   "id": "dbffe8b8-9e6e-473a-b405-0eb714daba12",
   "metadata": {},
   "outputs": [
    {
     "name": "stdout",
     "output_type": "stream",
     "text": [
      "Named Entities, their labels and positions:\n",
      "Entity: Today, Label: DATE, Start: 0, End: 5\n",
      "Entity: wednesday, Label: DATE, Start: 9, End: 18\n",
      "Entity: few weeks, Label: DATE, Start: 22, End: 31\n",
      "Entity: 7, Label: CARDINAL, Start: 40, End: 41\n",
      "Entity: Omkar, Label: ORG, Start: 47, End: 52\n",
      "Entity: the Gate Exam, Label: ORG, Start: 95, End: 108\n",
      "Entity: IIT, Label: ORG, Start: 139, End: 142\n",
      "Entity: Sahil, Label: PERSON, Start: 171, End: 176\n",
      "\n",
      "Label Explanations:\n",
      "ORG: Companies, agencies, institutions, etc.\n",
      "DATE: Absolute or relative dates or periods\n",
      "CARDINAL: Numerals that do not fall under another type\n",
      "PERSON: People, including fictional\n"
     ]
    }
   ],
   "source": [
    "import spacy\n",
    "\n",
    "# Load the pre-trained model for English\n",
    "nlp = spacy.load('en_core_web_sm')\n",
    "\n",
    "# Example text\n",
    "text = \"\"\"Today is wednesday in few weeks our sem 7 ends Omkar, Pranav and Sukant and busy preparing for the Gate Exam and exited to full fill there IIT dream.\n",
    "on  other hand I and Sahil and exited to start out journy in tech industry\"\"\"\n",
    "\n",
    "# Process the text through the NLP pipeline\n",
    "doc = nlp(text)\n",
    "\n",
    "# Iterate over entities in the text\n",
    "print(\"Named Entities, their labels and positions:\")\n",
    "for ent in doc.ents:\n",
    "    print(f\"Entity: {ent.text}, Label: {ent.label_}, Start: {ent.start_char}, End: {ent.end_char}\")\n",
    "\n",
    "# Print entity labels with explanations\n",
    "print(\"\\nLabel Explanations:\")\n",
    "for label in set([ent.label_ for ent in doc.ents]):\n",
    "    print(f\"{label}: {spacy.explain(label)}\")\n"
   ]
  },
  {
   "cell_type": "code",
   "execution_count": null,
   "id": "7f9d5cd7-3f0f-44da-a095-8d5082105d67",
   "metadata": {},
   "outputs": [],
   "source": []
  }
 ],
 "metadata": {
  "kernelspec": {
   "display_name": "Python 3 (ipykernel)",
   "language": "python",
   "name": "python3"
  },
  "language_info": {
   "codemirror_mode": {
    "name": "ipython",
    "version": 3
   },
   "file_extension": ".py",
   "mimetype": "text/x-python",
   "name": "python",
   "nbconvert_exporter": "python",
   "pygments_lexer": "ipython3",
   "version": "3.11.7"
  }
 },
 "nbformat": 4,
 "nbformat_minor": 5
}
