{
  "nbformat": 4,
  "nbformat_minor": 0,
  "metadata": {
    "colab": {
      "provenance": []
    },
    "kernelspec": {
      "name": "python3",
      "display_name": "Python 3"
    },
    "language_info": {
      "name": "python"
    }
  },
  "cells": [
    {
      "cell_type": "markdown",
      "source": [
        "| **Assignment No.** | **4-5-6** |\n",
        "|--------------------|-----------|\n",
        "| **Semester** | B.E. Semester VIII – Computer Engineering |\n",
        "| **Subject** | Data Science Honor |\n",
        "| **Subject Professor In-charge** | Prof. Amit Alyani |\n",
        "| **Academic Year** | 2024-25 |\n",
        "| **Student Name** | Deep Salunkhe |\n",
        "| **Roll Number** | 21102A0014 |\n"
      ],
      "metadata": {
        "id": "mHG34XPC8Hy4"
      }
    },
    {
      "cell_type": "markdown",
      "source": [
        "### **4. Comparison Analysis of Various Classification Algorithms**\n",
        "\n",
        "#### **Key Classification Algorithms**\n",
        "Below is a comparative analysis of various classification algorithms, focusing on their **key points** and **applications**.\n",
        "\n",
        "| Algorithm | Key Points | Applications |\n",
        "|-----------|------------|-------------|\n",
        "| **Logistic Regression** | - Works well for binary classification <br> - Assumes linear relationship between features and output <br> - Sensitive to outliers | - Medical diagnosis (e.g., disease prediction) <br> - Credit scoring <br> - Customer churn prediction |\n",
        "| **Decision Tree** | - Splits data into decision nodes <br> - Prone to overfitting <br> - Handles both numerical & categorical data | - Fraud detection <br> - Customer segmentation <br> - Risk assessment |\n",
        "| **Random Forest** | - Ensemble of multiple decision trees <br> - Reduces overfitting <br> - Handles missing data well | - Disease diagnosis <br> - Spam filtering <br> - Loan approval system |\n",
        "| **Support Vector Machine (SVM)** | - Works well in high-dimensional spaces <br> - Uses kernel trick to handle non-linearity <br> - Computationally expensive | - Text categorization <br> - Image classification <br> - Handwriting recognition |\n",
        "| **K-Nearest Neighbors (KNN)** | - Instance-based learning (lazy learning) <br> - Sensitive to noise and outliers <br> - High computational cost for large datasets | - Recommendation systems <br> - Pattern recognition <br> - Anomaly detection |\n",
        "| **Naïve Bayes** | - Based on Bayes’ Theorem <br> - Assumes feature independence <br> - Works well with small datasets | - Spam filtering <br> - Sentiment analysis <br> - Document classification |\n",
        "| **Artificial Neural Networks (ANNs)** | - Mimics human brain <br> - Requires large data for training <br> - Can capture complex non-linear patterns | - Image and speech recognition <br> - Drug discovery <br> - Autonomous driving |\n",
        "| **Gradient Boosting (XGBoost, LightGBM, CatBoost)** | - Boosting ensemble technique <br> - Handles missing values well <br> - Computationally efficient | - Fraud detection <br> - Predictive maintenance <br> - Financial forecasting |\n",
        "\n",
        "---\n"
      ],
      "metadata": {
        "id": "Eem0X6Pa6Q47"
      }
    },
    {
      "cell_type": "markdown",
      "source": [
        "### **5. Apply Multiple Classification Algorithms on a Dataset**\n",
        "\n",
        "We'll use the **Breast Cancer Wisconsin Dataset**, which is available in `sklearn.datasets`. This dataset is suitable for medical classification tasks."
      ],
      "metadata": {
        "id": "daI4ggBE6vHY"
      }
    },
    {
      "cell_type": "code",
      "source": [
        "# Import necessary libraries\n",
        "import numpy as np\n",
        "import pandas as pd\n",
        "import matplotlib.pyplot as plt\n",
        "import seaborn as sns\n",
        "\n",
        "from sklearn.model_selection import train_test_split\n",
        "from sklearn.preprocessing import StandardScaler\n",
        "from sklearn.metrics import accuracy_score, classification_report, confusion_matrix\n",
        "from sklearn.datasets import load_breast_cancer\n",
        "\n",
        "# Load the dataset\n",
        "data = load_breast_cancer()\n",
        "df = pd.DataFrame(data.data, columns=data.feature_names)\n",
        "df['target'] = data.target\n",
        "\n",
        "# Split dataset\n",
        "X = df.drop('target', axis=1)\n",
        "y = df['target']\n",
        "X_train, X_test, y_train, y_test = train_test_split(X, y, test_size=0.2, random_state=42)\n",
        "\n",
        "# Standardize features\n",
        "scaler = StandardScaler()\n",
        "X_train = scaler.fit_transform(X_train)\n",
        "X_test = scaler.transform(X_test)\n",
        "\n",
        "# Define models\n",
        "from sklearn.linear_model import LogisticRegression\n",
        "from sklearn.tree import DecisionTreeClassifier\n",
        "from sklearn.ensemble import RandomForestClassifier\n",
        "from sklearn.svm import SVC\n",
        "from sklearn.naive_bayes import GaussianNB\n",
        "from sklearn.neighbors import KNeighborsClassifier\n",
        "from xgboost import XGBClassifier\n",
        "\n",
        "models = {\n",
        "    \"Logistic Regression\": LogisticRegression(),\n",
        "    \"Decision Tree\": DecisionTreeClassifier(),\n",
        "    \"Random Forest\": RandomForestClassifier(),\n",
        "    \"SVM\": SVC(),\n",
        "    \"KNN\": KNeighborsClassifier(),\n",
        "    \"Naïve Bayes\": GaussianNB(),\n",
        "    \"XGBoost\": XGBClassifier(use_label_encoder=False, eval_metric='logloss')\n",
        "}\n",
        "\n",
        "# Train and evaluate models\n",
        "results = {}\n",
        "\n",
        "for name, model in models.items():\n",
        "    model.fit(X_train, y_train)\n",
        "    y_pred = model.predict(X_test)\n",
        "    acc = accuracy_score(y_test, y_pred)\n",
        "    results[name] = acc\n",
        "    print(f\"Model: {name}\\n{classification_report(y_test, y_pred)}\\n\")\n",
        "\n",
        "# Convert results to DataFrame\n",
        "results_df = pd.DataFrame(list(results.items()), columns=[\"Model\", \"Accuracy\"])\n",
        "print(results_df)\n"
      ],
      "metadata": {
        "colab": {
          "base_uri": "https://localhost:8080/"
        },
        "id": "0zgpJRpo6wil",
        "outputId": "4d12dd8e-303f-4849-c2c7-33f4ec3bb7ea"
      },
      "execution_count": 1,
      "outputs": [
        {
          "output_type": "stream",
          "name": "stdout",
          "text": [
            "Model: Logistic Regression\n",
            "              precision    recall  f1-score   support\n",
            "\n",
            "           0       0.98      0.95      0.96        43\n",
            "           1       0.97      0.99      0.98        71\n",
            "\n",
            "    accuracy                           0.97       114\n",
            "   macro avg       0.97      0.97      0.97       114\n",
            "weighted avg       0.97      0.97      0.97       114\n",
            "\n",
            "\n",
            "Model: Decision Tree\n",
            "              precision    recall  f1-score   support\n",
            "\n",
            "           0       0.93      0.91      0.92        43\n",
            "           1       0.94      0.96      0.95        71\n",
            "\n",
            "    accuracy                           0.94       114\n",
            "   macro avg       0.94      0.93      0.93       114\n",
            "weighted avg       0.94      0.94      0.94       114\n",
            "\n",
            "\n",
            "Model: Random Forest\n",
            "              precision    recall  f1-score   support\n",
            "\n",
            "           0       0.98      0.93      0.95        43\n",
            "           1       0.96      0.99      0.97        71\n",
            "\n",
            "    accuracy                           0.96       114\n",
            "   macro avg       0.97      0.96      0.96       114\n",
            "weighted avg       0.97      0.96      0.96       114\n",
            "\n",
            "\n",
            "Model: SVM\n",
            "              precision    recall  f1-score   support\n",
            "\n",
            "           0       1.00      0.95      0.98        43\n",
            "           1       0.97      1.00      0.99        71\n",
            "\n",
            "    accuracy                           0.98       114\n",
            "   macro avg       0.99      0.98      0.98       114\n",
            "weighted avg       0.98      0.98      0.98       114\n",
            "\n",
            "\n",
            "Model: KNN\n",
            "              precision    recall  f1-score   support\n",
            "\n",
            "           0       0.93      0.93      0.93        43\n",
            "           1       0.96      0.96      0.96        71\n",
            "\n",
            "    accuracy                           0.95       114\n",
            "   macro avg       0.94      0.94      0.94       114\n",
            "weighted avg       0.95      0.95      0.95       114\n",
            "\n",
            "\n",
            "Model: Naïve Bayes\n",
            "              precision    recall  f1-score   support\n",
            "\n",
            "           0       0.98      0.93      0.95        43\n",
            "           1       0.96      0.99      0.97        71\n",
            "\n",
            "    accuracy                           0.96       114\n",
            "   macro avg       0.97      0.96      0.96       114\n",
            "weighted avg       0.97      0.96      0.96       114\n",
            "\n",
            "\n"
          ]
        },
        {
          "output_type": "stream",
          "name": "stderr",
          "text": [
            "/usr/local/lib/python3.11/dist-packages/xgboost/core.py:158: UserWarning: [10:07:20] WARNING: /workspace/src/learner.cc:740: \n",
            "Parameters: { \"use_label_encoder\" } are not used.\n",
            "\n",
            "  warnings.warn(smsg, UserWarning)\n"
          ]
        },
        {
          "output_type": "stream",
          "name": "stdout",
          "text": [
            "Model: XGBoost\n",
            "              precision    recall  f1-score   support\n",
            "\n",
            "           0       0.95      0.93      0.94        43\n",
            "           1       0.96      0.97      0.97        71\n",
            "\n",
            "    accuracy                           0.96       114\n",
            "   macro avg       0.96      0.95      0.95       114\n",
            "weighted avg       0.96      0.96      0.96       114\n",
            "\n",
            "\n",
            "                 Model  Accuracy\n",
            "0  Logistic Regression  0.973684\n",
            "1        Decision Tree  0.938596\n",
            "2        Random Forest  0.964912\n",
            "3                  SVM  0.982456\n",
            "4                  KNN  0.947368\n",
            "5          Naïve Bayes  0.964912\n",
            "6              XGBoost  0.956140\n"
          ]
        }
      ]
    },
    {
      "cell_type": "markdown",
      "source": [
        "### **6. Comparison Analysis of Classification Algorithm Results**\n",
        "\n",
        "| Model | Accuracy (%) |\n",
        "|-------|------------|\n",
        "| **SVM** | **98.24%** |\n",
        "| **Logistic Regression** | **97.37%** |\n",
        "| **Random Forest** | **96.49%** |\n",
        "| **Naïve Bayes** | **96.49%** |\n",
        "| **XGBoost** | **95.61%** |\n",
        "| **KNN** | **94.73%** |\n",
        "| **Decision Tree** | **93.86%** |\n",
        "\n",
        "---\n",
        "\n",
        "### **Key Observations**\n",
        "- **SVM performed the best**, achieving **98.24% accuracy**. This suggests that the dataset is well-suited for a hyperplane-based separation.\n",
        "- **Logistic Regression and Random Forest** also performed **very well** with **97.37% and 96.49% accuracy**, respectively.\n",
        "- **Naïve Bayes surprisingly performed better than XGBoost**, indicating that feature independence assumptions might not be too unrealistic in this dataset.\n",
        "- **Decision Tree had the lowest accuracy (93.86%)**, possibly due to overfitting.\n",
        "\n",
        "---"
      ],
      "metadata": {
        "id": "DgQBM3QJ7bdT"
      }
    },
    {
      "cell_type": "code",
      "source": [
        "# Update the results DataFrame\n",
        "results_updated = pd.DataFrame({\n",
        "    \"Model\": [\"Logistic Regression\", \"Decision Tree\", \"Random Forest\", \"SVM\", \"KNN\", \"Naïve Bayes\", \"XGBoost\"],\n",
        "    \"Accuracy\": [0.973684, 0.938596, 0.964912, 0.982456, 0.947368, 0.964912, 0.956140]\n",
        "})\n",
        "\n",
        "# Plot the updated accuracy of models\n",
        "plt.figure(figsize=(10,6))\n",
        "sns.barplot(x=results_updated[\"Model\"], y=results_updated[\"Accuracy\"], palette=\"coolwarm\")\n",
        "plt.xticks(rotation=45)\n",
        "plt.ylabel(\"Accuracy Score\")\n",
        "plt.title(\"Updated Comparison of Classification Algorithms\")\n",
        "plt.show()\n"
      ],
      "metadata": {
        "colab": {
          "base_uri": "https://localhost:8080/",
          "height": 744
        },
        "id": "dpacLze87utX",
        "outputId": "05a9c2bd-2b0d-4bc3-c8ec-e5e556e87518"
      },
      "execution_count": 2,
      "outputs": [
        {
          "output_type": "stream",
          "name": "stderr",
          "text": [
            "<ipython-input-2-0f6e020c6290>:9: FutureWarning: \n",
            "\n",
            "Passing `palette` without assigning `hue` is deprecated and will be removed in v0.14.0. Assign the `x` variable to `hue` and set `legend=False` for the same effect.\n",
            "\n",
            "  sns.barplot(x=results_updated[\"Model\"], y=results_updated[\"Accuracy\"], palette=\"coolwarm\")\n"
          ]
        },
        {
          "output_type": "display_data",
          "data": {
            "text/plain": [
              "<Figure size 1000x600 with 1 Axes>"
            ],
            "image/png": "[encoded data removed]"
          },
          "metadata": {}
        }
      ]
    },
    {
      "cell_type": "markdown",
      "source": [
        "## **Conclusion**\n",
        "- If the goal is **maximum accuracy**, **SVM is the best choice** for this dataset.\n",
        "- **Logistic Regression is a close second**, making it a simpler but effective alternative.\n",
        "- **Random Forest and Naïve Bayes also perform well**, making them reliable choices.\n",
        "- **XGBoost didn't outperform simpler models**, which might indicate it requires hyperparameter tuning.\n",
        "- **Decision Tree alone is less reliable**, but when combined in ensembles like Random Forest, it performs better."
      ],
      "metadata": {
        "id": "1WEP0w3X738Q"
      }
    }
  ]
}