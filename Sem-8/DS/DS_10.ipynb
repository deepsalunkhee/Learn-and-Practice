{
  "nbformat": 4,
  "nbformat_minor": 0,
  "metadata": {
    "colab": {
      "provenance": []
    },
    "kernelspec": {
      "name": "python3",
      "display_name": "Python 3"
    },
    "language_info": {
      "name": "python"
    }
  },
  "cells": [
    {
      "cell_type": "markdown",
      "source": [
        "| Semester  | B.E. Semester VIII – Computer Engineering |\n",
        "|-----------|------------------------------------------|\n",
        "| **Subject** | Data Science Honors |\n",
        "| **Subject Professor In-charge** | Prof. Amit Alyani |\n",
        "| **Academic Year** | 2024-25 |\n",
        "| **Student Name** | Deep Salunkhe |\n",
        "| **Roll Number** | 21102A0014 |\n",
        "|**Assignment**|10|"
      ],
      "metadata": {
        "id": "KSt8xNjv27QK"
      }
    },
    {
      "cell_type": "markdown",
      "source": [
        "\n",
        "## Introduction\n",
        "Web mining is the process of extracting useful information from web pages. It involves techniques such as web scraping, web crawling, and data analysis. One of the most popular Python libraries for web scraping is **BeautifulSoup**, which allows easy parsing and extraction of HTML and XML data.\n",
        "\n",
        "## Why Use BeautifulSoup?\n",
        "BeautifulSoup provides:\n",
        "- Easy navigation and searching of HTML/XML parse trees.\n",
        "- Support for parsing different types of HTML structures.\n",
        "- Simple methods to extract text, attributes, and table data."
      ],
      "metadata": {
        "id": "A-zz3aLGx9mL"
      }
    },
    {
      "cell_type": "code",
      "source": [
        "pip install beautifulsoup4 requests"
      ],
      "metadata": {
        "colab": {
          "base_uri": "https://localhost:8080/"
        },
        "id": "1Wx4aejRx_zi",
        "outputId": "75cf53a0-3bad-4f05-b859-45a86d04e905"
      },
      "execution_count": 1,
      "outputs": [
        {
          "output_type": "stream",
          "name": "stdout",
          "text": [
            "Requirement already satisfied: beautifulsoup4 in /usr/local/lib/python3.11/dist-packages (4.13.3)\n",
            "Requirement already satisfied: requests in /usr/local/lib/python3.11/dist-packages (2.32.3)\n",
            "Requirement already satisfied: soupsieve>1.2 in /usr/local/lib/python3.11/dist-packages (from beautifulsoup4) (2.6)\n",
            "Requirement already satisfied: typing-extensions>=4.0.0 in /usr/local/lib/python3.11/dist-packages (from beautifulsoup4) (4.12.2)\n",
            "Requirement already satisfied: charset-normalizer<4,>=2 in /usr/local/lib/python3.11/dist-packages (from requests) (3.4.1)\n",
            "Requirement already satisfied: idna<4,>=2.5 in /usr/local/lib/python3.11/dist-packages (from requests) (3.10)\n",
            "Requirement already satisfied: urllib3<3,>=1.21.1 in /usr/local/lib/python3.11/dist-packages (from requests) (2.3.0)\n",
            "Requirement already satisfied: certifi>=2017.4.17 in /usr/local/lib/python3.11/dist-packages (from requests) (2025.1.31)\n"
          ]
        }
      ]
    },
    {
      "cell_type": "markdown",
      "source": [
        "## Basic Workflow\n",
        "The general process of extracting data using BeautifulSoup involves:\n",
        "1. **Sending a Request**: Use the `requests` module to fetch a webpage.\n",
        "2. **Parsing HTML**: Convert raw HTML into a structured format.\n",
        "3. **Navigating the DOM**: Extract required data using BeautifulSoup functions.\n",
        "4. **Saving the Data**: Store the extracted data for further analysis."
      ],
      "metadata": {
        "id": "k5tZHtNcyH4i"
      }
    },
    {
      "cell_type": "code",
      "source": [
        "import requests\n",
        "from bs4 import BeautifulSoup\n",
        "\n",
        "url = \"http://books.toscrape.com/\"\n",
        "response = requests.get(url)\n",
        "soup = BeautifulSoup(response.text, \"html.parser\")\n",
        "\n",
        "for book in soup.find_all(\"article\", class_=\"product_pod\"):\n",
        "    title = book.h3.a[\"title\"]\n",
        "    price = book.find(\"p\", class_=\"price_color\").text\n",
        "    print(f\"Title: {title}, Price: {price}\")\n"
      ],
      "metadata": {
        "colab": {
          "base_uri": "https://localhost:8080/"
        },
        "id": "3NDzB8hryJBS",
        "outputId": "439acf05-cad0-4a39-9757-5f4c06cc4a5b"
      },
      "execution_count": 11,
      "outputs": [
        {
          "output_type": "stream",
          "name": "stdout",
          "text": [
            "Title: A Light in the Attic, Price: Â£51.77\n",
            "Title: Tipping the Velvet, Price: Â£53.74\n",
            "Title: Soumission, Price: Â£50.10\n",
            "Title: Sharp Objects, Price: Â£47.82\n",
            "Title: Sapiens: A Brief History of Humankind, Price: Â£54.23\n",
            "Title: The Requiem Red, Price: Â£22.65\n",
            "Title: The Dirty Little Secrets of Getting Your Dream Job, Price: Â£33.34\n",
            "Title: The Coming Woman: A Novel Based on the Life of the Infamous Feminist, Victoria Woodhull, Price: Â£17.93\n",
            "Title: The Boys in the Boat: Nine Americans and Their Epic Quest for Gold at the 1936 Berlin Olympics, Price: Â£22.60\n",
            "Title: The Black Maria, Price: Â£52.15\n",
            "Title: Starving Hearts (Triangular Trade Trilogy, #1), Price: Â£13.99\n",
            "Title: Shakespeare's Sonnets, Price: Â£20.66\n",
            "Title: Set Me Free, Price: Â£17.46\n",
            "Title: Scott Pilgrim's Precious Little Life (Scott Pilgrim #1), Price: Â£52.29\n",
            "Title: Rip it Up and Start Again, Price: Â£35.02\n",
            "Title: Our Band Could Be Your Life: Scenes from the American Indie Underground, 1981-1991, Price: Â£57.25\n",
            "Title: Olio, Price: Â£23.88\n",
            "Title: Mesaerion: The Best Science Fiction Stories 1800-1849, Price: Â£37.59\n",
            "Title: Libertarianism for Beginners, Price: Â£51.33\n",
            "Title: It's Only the Himalayas, Price: Â£45.17\n"
          ]
        }
      ]
    },
    {
      "cell_type": "markdown",
      "source": [
        "## Conclusion\n",
        "BeautifulSoup is a powerful and easy-to-use library for web scraping. By following the methods outlined in this document, you can extract and analyze data efficiently. If working with dynamic content, integrating Selenium can enhance scraping capabilities.\n"
      ],
      "metadata": {
        "id": "gK-ouo-S0EXE"
      }
    }
  ]
}